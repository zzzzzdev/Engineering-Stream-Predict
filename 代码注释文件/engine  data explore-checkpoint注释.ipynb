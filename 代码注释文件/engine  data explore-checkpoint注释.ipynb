{
 "cells": [
  {
   "cell_type": "code",
   "execution_count": 1,
   "metadata": {},
   "outputs": [],
   "source": [
    "import numpy as np\n",
    "import pandas as pd\n",
    "import matplotlib.pyplot as plt#注意这里必须是pyplot模块\n",
    "import seaborn as sns\n",
    "import math\n",
    "from scipy import stats\n",
    "\n",
    "import warnings\n",
    "warnings.filterwarnings(\"ignore\")\n",
    "#python通过调用warnings模块中定义的warn()函数来发出警告。我们可以通过警告过滤器进行控制是否发出警告消息，\n",
    "#注意这里是双引号\n",
    "\n",
    "%matplotlib inline\n",
    "#用在Jupyter notebook中具体作用是当你调用matplotlib.pyplot的绘图函数plot()进行绘图的时候，\n",
    "#或者生成一个figure画布的时候，可以直接在你的python console里面生成图像。"
   ]
  },
  {
   "cell_type": "code",
   "execution_count": null,
   "metadata": {},
   "outputs": [],
   "source": []
  },
  {
   "cell_type": "code",
   "execution_count": 3,
   "metadata": {},
   "outputs": [],
   "source": [
    "# 下载需要用到的数据集\n",
    "\n",
    "#如果是离线数据\n",
    "train_data_file=pd.read_csv(\"zhengqi_train.txt\",sep='\\t')#设置读取数据的分隔符，不然混为一谈\n",
    "test_data_file=pd.read_csv(\"zhengqi_test.txt\",sep='\\t')\n",
    "\n",
    "#注意这里是wget不是wegt\n",
    "#!wget http://tianchi-media.oss-cn-beijing.aliyuncs.com/DSW/Industrial_Steam_Forecast/zhengqi_test.txt\n",
    "#作用为下载数据集，使用！wget,得到了如下的100%代表下载成功\n",
    "#!wget http://tianchi-media.oss-cn-beijing.aliyuncs.com/DSW/Industrial_Steam_Forecast/zhengqi_train.txt"
   ]
  },
  {
   "cell_type": "code",
   "execution_count": null,
   "metadata": {},
   "outputs": [],
   "source": []
  },
  {
   "cell_type": "code",
   "execution_count": 4,
   "metadata": {},
   "outputs": [
    {
     "ename": "ValueError",
     "evalue": "Invalid file path or buffer object type: <class 'pandas.core.frame.DataFrame'>",
     "output_type": "error",
     "traceback": [
      "\u001b[1;31m---------------------------------------------------------------------------\u001b[0m",
      "\u001b[1;31mValueError\u001b[0m                                Traceback (most recent call last)",
      "\u001b[1;32m<ipython-input-4-687af1103a73>\u001b[0m in \u001b[0;36m<module>\u001b[1;34m\u001b[0m\n\u001b[0;32m      2\u001b[0m \u001b[1;31m#test_data_file =  \"./zhengqi_test.txt\"#设定测试数据集，此时还没有读入数据\u001b[0m\u001b[1;33m\u001b[0m\u001b[1;33m\u001b[0m\u001b[1;33m\u001b[0m\u001b[0m\n\u001b[0;32m      3\u001b[0m \u001b[1;33m\u001b[0m\u001b[0m\n\u001b[1;32m----> 4\u001b[1;33m \u001b[0mtrain_data\u001b[0m \u001b[1;33m=\u001b[0m \u001b[0mpd\u001b[0m\u001b[1;33m.\u001b[0m\u001b[0mread_csv\u001b[0m\u001b[1;33m(\u001b[0m\u001b[0mtrain_data_file\u001b[0m\u001b[1;33m,\u001b[0m \u001b[0msep\u001b[0m\u001b[1;33m=\u001b[0m\u001b[1;34m'\\t'\u001b[0m\u001b[1;33m,\u001b[0m \u001b[0mencoding\u001b[0m\u001b[1;33m=\u001b[0m\u001b[1;34m'utf-8'\u001b[0m\u001b[1;33m)\u001b[0m\u001b[1;31m#读入数据，参数有sep(分隔），以及编码\u001b[0m\u001b[1;33m\u001b[0m\u001b[1;33m\u001b[0m\u001b[0m\n\u001b[0m\u001b[0;32m      5\u001b[0m \u001b[0mtest_data\u001b[0m \u001b[1;33m=\u001b[0m \u001b[0mpd\u001b[0m\u001b[1;33m.\u001b[0m\u001b[0mread_csv\u001b[0m\u001b[1;33m(\u001b[0m\u001b[0mtest_data_file\u001b[0m\u001b[1;33m,\u001b[0m \u001b[0msep\u001b[0m\u001b[1;33m=\u001b[0m\u001b[1;34m'\\t'\u001b[0m\u001b[1;33m,\u001b[0m \u001b[0mencoding\u001b[0m\u001b[1;33m=\u001b[0m\u001b[1;34m'utf-8'\u001b[0m\u001b[1;33m)\u001b[0m\u001b[1;33m\u001b[0m\u001b[1;33m\u001b[0m\u001b[0m\n",
      "\u001b[1;32mD:\\Anaconda\\lib\\site-packages\\pandas\\io\\parsers.py\u001b[0m in \u001b[0;36mread_csv\u001b[1;34m(filepath_or_buffer, sep, delimiter, header, names, index_col, usecols, squeeze, prefix, mangle_dupe_cols, dtype, engine, converters, true_values, false_values, skipinitialspace, skiprows, skipfooter, nrows, na_values, keep_default_na, na_filter, verbose, skip_blank_lines, parse_dates, infer_datetime_format, keep_date_col, date_parser, dayfirst, cache_dates, iterator, chunksize, compression, thousands, decimal, lineterminator, quotechar, quoting, doublequote, escapechar, comment, encoding, dialect, error_bad_lines, warn_bad_lines, delim_whitespace, low_memory, memory_map, float_precision)\u001b[0m\n\u001b[0;32m    684\u001b[0m     )\n\u001b[0;32m    685\u001b[0m \u001b[1;33m\u001b[0m\u001b[0m\n\u001b[1;32m--> 686\u001b[1;33m     \u001b[1;32mreturn\u001b[0m \u001b[0m_read\u001b[0m\u001b[1;33m(\u001b[0m\u001b[0mfilepath_or_buffer\u001b[0m\u001b[1;33m,\u001b[0m \u001b[0mkwds\u001b[0m\u001b[1;33m)\u001b[0m\u001b[1;33m\u001b[0m\u001b[1;33m\u001b[0m\u001b[0m\n\u001b[0m\u001b[0;32m    687\u001b[0m \u001b[1;33m\u001b[0m\u001b[0m\n\u001b[0;32m    688\u001b[0m \u001b[1;33m\u001b[0m\u001b[0m\n",
      "\u001b[1;32mD:\\Anaconda\\lib\\site-packages\\pandas\\io\\parsers.py\u001b[0m in \u001b[0;36m_read\u001b[1;34m(filepath_or_buffer, kwds)\u001b[0m\n\u001b[0;32m    432\u001b[0m     \u001b[1;31m# though mypy handling of conditional imports is difficult.\u001b[0m\u001b[1;33m\u001b[0m\u001b[1;33m\u001b[0m\u001b[1;33m\u001b[0m\u001b[0m\n\u001b[0;32m    433\u001b[0m     \u001b[1;31m# See https://github.com/python/mypy/issues/1297\u001b[0m\u001b[1;33m\u001b[0m\u001b[1;33m\u001b[0m\u001b[1;33m\u001b[0m\u001b[0m\n\u001b[1;32m--> 434\u001b[1;33m     fp_or_buf, _, compression, should_close = get_filepath_or_buffer(\n\u001b[0m\u001b[0;32m    435\u001b[0m         \u001b[0mfilepath_or_buffer\u001b[0m\u001b[1;33m,\u001b[0m \u001b[0mencoding\u001b[0m\u001b[1;33m,\u001b[0m \u001b[0mcompression\u001b[0m\u001b[1;33m\u001b[0m\u001b[1;33m\u001b[0m\u001b[0m\n\u001b[0;32m    436\u001b[0m     )\n",
      "\u001b[1;32mD:\\Anaconda\\lib\\site-packages\\pandas\\io\\common.py\u001b[0m in \u001b[0;36mget_filepath_or_buffer\u001b[1;34m(filepath_or_buffer, encoding, compression, mode, storage_options)\u001b[0m\n\u001b[0;32m    241\u001b[0m     \u001b[1;32mif\u001b[0m \u001b[1;32mnot\u001b[0m \u001b[0mis_file_like\u001b[0m\u001b[1;33m(\u001b[0m\u001b[0mfilepath_or_buffer\u001b[0m\u001b[1;33m)\u001b[0m\u001b[1;33m:\u001b[0m\u001b[1;33m\u001b[0m\u001b[1;33m\u001b[0m\u001b[0m\n\u001b[0;32m    242\u001b[0m         \u001b[0mmsg\u001b[0m \u001b[1;33m=\u001b[0m \u001b[1;34mf\"Invalid file path or buffer object type: {type(filepath_or_buffer)}\"\u001b[0m\u001b[1;33m\u001b[0m\u001b[1;33m\u001b[0m\u001b[0m\n\u001b[1;32m--> 243\u001b[1;33m         \u001b[1;32mraise\u001b[0m \u001b[0mValueError\u001b[0m\u001b[1;33m(\u001b[0m\u001b[0mmsg\u001b[0m\u001b[1;33m)\u001b[0m\u001b[1;33m\u001b[0m\u001b[1;33m\u001b[0m\u001b[0m\n\u001b[0m\u001b[0;32m    244\u001b[0m \u001b[1;33m\u001b[0m\u001b[0m\n\u001b[0;32m    245\u001b[0m     \u001b[1;32mreturn\u001b[0m \u001b[0mfilepath_or_buffer\u001b[0m\u001b[1;33m,\u001b[0m \u001b[1;32mNone\u001b[0m\u001b[1;33m,\u001b[0m \u001b[0mcompression\u001b[0m\u001b[1;33m,\u001b[0m \u001b[1;32mFalse\u001b[0m\u001b[1;33m\u001b[0m\u001b[1;33m\u001b[0m\u001b[0m\n",
      "\u001b[1;31mValueError\u001b[0m: Invalid file path or buffer object type: <class 'pandas.core.frame.DataFrame'>"
     ]
    }
   ],
   "source": [
    "#train_data_file = \"./zhengqi_train.txt\"#设定训练集\n",
    "#test_data_file =  \"./zhengqi_test.txt\"#设定测试数据集，此时还没有读入数据\n",
    "\n",
    "#train_data = pd.read_csv(train_data_file, sep='\\t', encoding='utf-8')#读入数据，参数有sep(分隔），以及编码\n",
    "#test_data = pd.read_csv(test_data_file, sep='\\t', encoding='utf-8')"
   ]
  },
  {
   "cell_type": "code",
   "execution_count": null,
   "metadata": {},
   "outputs": [],
   "source": [
    "train_data.info()#通过info()来了解数据每列的type，有助于了解是否存在除了nan以外的特殊符号异常。"
   ]
  },
  {
   "cell_type": "code",
   "execution_count": null,
   "metadata": {},
   "outputs": [],
   "source": [
    "test_data.info()#训练数据以及测试数据都要观测"
   ]
  },
  {
   "cell_type": "code",
   "execution_count": null,
   "metadata": {},
   "outputs": [],
   "source": [
    "train_data.describe()"
   ]
  },
  {
   "cell_type": "code",
   "execution_count": null,
   "metadata": {},
   "outputs": [],
   "source": [
    "test_data.describe()"
   ]
  },
  {
   "cell_type": "code",
   "execution_count": 5,
   "metadata": {},
   "outputs": [
    {
     "ename": "NameError",
     "evalue": "name 'train_data' is not defined",
     "output_type": "error",
     "traceback": [
      "\u001b[1;31m---------------------------------------------------------------------------\u001b[0m",
      "\u001b[1;31mNameError\u001b[0m                                 Traceback (most recent call last)",
      "\u001b[1;32m<ipython-input-5-c4dda1b59424>\u001b[0m in \u001b[0;36m<module>\u001b[1;34m\u001b[0m\n\u001b[1;32m----> 1\u001b[1;33m \u001b[0mtrain_data\u001b[0m\u001b[1;33m.\u001b[0m\u001b[0mhead\u001b[0m\u001b[1;33m(\u001b[0m\u001b[1;33m)\u001b[0m\u001b[1;33m\u001b[0m\u001b[1;33m\u001b[0m\u001b[0m\n\u001b[0m",
      "\u001b[1;31mNameError\u001b[0m: name 'train_data' is not defined"
     ]
    }
   ],
   "source": [
    "train_data.head()"
   ]
  },
  {
   "cell_type": "code",
   "execution_count": 6,
   "metadata": {},
   "outputs": [
    {
     "ename": "NameError",
     "evalue": "name 'test_data' is not defined",
     "output_type": "error",
     "traceback": [
      "\u001b[1;31m---------------------------------------------------------------------------\u001b[0m",
      "\u001b[1;31mNameError\u001b[0m                                 Traceback (most recent call last)",
      "\u001b[1;32m<ipython-input-6-f80f5f69a113>\u001b[0m in \u001b[0;36m<module>\u001b[1;34m\u001b[0m\n\u001b[1;32m----> 1\u001b[1;33m \u001b[0mtest_data\u001b[0m\u001b[1;33m.\u001b[0m\u001b[0mhead\u001b[0m\u001b[1;33m(\u001b[0m\u001b[1;33m)\u001b[0m\u001b[1;33m\u001b[0m\u001b[1;33m\u001b[0m\u001b[0m\n\u001b[0m",
      "\u001b[1;31mNameError\u001b[0m: name 'test_data' is not defined"
     ]
    }
   ],
   "source": [
    "test_data.head()"
   ]
  },
  {
   "cell_type": "code",
   "execution_count": 19,
   "metadata": {},
   "outputs": [
    {
     "ename": "NameError",
     "evalue": "name 'train_data' is not defined",
     "output_type": "error",
     "traceback": [
      "\u001b[1;31m---------------------------------------------------------------------------\u001b[0m",
      "\u001b[1;31mNameError\u001b[0m                                 Traceback (most recent call last)",
      "\u001b[1;32m<ipython-input-19-416da78f5fcc>\u001b[0m in \u001b[0;36m<module>\u001b[1;34m\u001b[0m\n\u001b[0;32m      4\u001b[0m \u001b[1;31m#boxplot是位于sns里面，并且选取dataframe里面的数据直接按照【】选取\u001b[0m\u001b[1;33m\u001b[0m\u001b[1;33m\u001b[0m\u001b[1;33m\u001b[0m\u001b[0m\n\u001b[0;32m      5\u001b[0m \u001b[1;31m#orient=\"v\"表示其为垂直方向，width=0.5 控制箱型图的宽度\u001b[0m\u001b[1;33m\u001b[0m\u001b[1;33m\u001b[0m\u001b[1;33m\u001b[0m\u001b[0m\n\u001b[1;32m----> 6\u001b[1;33m \u001b[0msns\u001b[0m\u001b[1;33m.\u001b[0m\u001b[0mboxplot\u001b[0m\u001b[1;33m(\u001b[0m\u001b[0mtrain_data\u001b[0m\u001b[1;33m[\u001b[0m\u001b[1;34m'V0'\u001b[0m\u001b[1;33m]\u001b[0m\u001b[1;33m,\u001b[0m\u001b[0morient\u001b[0m\u001b[1;33m=\u001b[0m\u001b[1;34m\"v\"\u001b[0m\u001b[1;33m,\u001b[0m \u001b[0mwidth\u001b[0m\u001b[1;33m=\u001b[0m\u001b[1;36m0.5\u001b[0m\u001b[1;33m)\u001b[0m\u001b[1;31m#做模型时，经常使用箱型图查看特征变量有没有异常值\u001b[0m\u001b[1;33m\u001b[0m\u001b[1;33m\u001b[0m\u001b[0m\n\u001b[0m",
      "\u001b[1;31mNameError\u001b[0m: name 'train_data' is not defined"
     ]
    },
    {
     "data": {
      "text/plain": [
       "<Figure size 288x432 with 0 Axes>"
      ]
     },
     "metadata": {},
     "output_type": "display_data"
    }
   ],
   "source": [
    "#记忆一下怎么设置图片大小\n",
    "fig = plt.figure(figsize=(4, 6))  # 指定绘图对象宽度和高度\n",
    "\n",
    "#做模型时，经常使用箱型图查看特征变量有没有异常值\n",
    "#boxplot是位于sns里面，并且选取dataframe里面的数据直接按照【】选取\n",
    "#记忆以下里面的关键字,orient\n",
    "#对于里面width的数据因为其为整数没有双引号\n",
    "#orient=\"v\"表示其为垂直方向，width=0.5 控制箱型图的宽度\n",
    "sns.boxplot(train_data['V0'],orient=\"v\", width=0.5)#做模型时，经常使用箱型图查看特征变量有没有异常值"
   ]
  },
  {
   "cell_type": "code",
   "execution_count": 8,
   "metadata": {},
   "outputs": [
    {
     "ename": "NameError",
     "evalue": "name 'train_data' is not defined",
     "output_type": "error",
     "traceback": [
      "\u001b[1;31m---------------------------------------------------------------------------\u001b[0m",
      "\u001b[1;31mNameError\u001b[0m                                 Traceback (most recent call last)",
      "\u001b[1;32m<ipython-input-8-a4f986ca9658>\u001b[0m in \u001b[0;36m<module>\u001b[1;34m\u001b[0m\n\u001b[0;32m      1\u001b[0m \u001b[1;31m# 画箱式图\u001b[0m\u001b[1;33m\u001b[0m\u001b[1;33m\u001b[0m\u001b[1;33m\u001b[0m\u001b[0m\n\u001b[0;32m      2\u001b[0m \u001b[1;31m#train_data.columns读取dataframe的所有列\u001b[0m\u001b[1;33m\u001b[0m\u001b[1;33m\u001b[0m\u001b[1;33m\u001b[0m\u001b[0m\n\u001b[1;32m----> 3\u001b[1;33m \u001b[0mcolumn\u001b[0m \u001b[1;33m=\u001b[0m \u001b[0mtrain_data\u001b[0m\u001b[1;33m.\u001b[0m\u001b[0mcolumns\u001b[0m\u001b[1;33m[\u001b[0m\u001b[1;33m:\u001b[0m\u001b[1;36m39\u001b[0m\u001b[1;33m]\u001b[0m  \u001b[1;31m# 列表头#这里加不加tolist都可以,tolist就是将其转化为列表。\u001b[0m\u001b[1;33m\u001b[0m\u001b[1;33m\u001b[0m\u001b[0m\n\u001b[0m\u001b[0;32m      4\u001b[0m \u001b[1;33m\u001b[0m\u001b[0m\n\u001b[0;32m      5\u001b[0m \u001b[1;33m\u001b[0m\u001b[0m\n",
      "\u001b[1;31mNameError\u001b[0m: name 'train_data' is not defined"
     ]
    }
   ],
   "source": [
    "# 画箱式图\n",
    "#train_data.columns读取dataframe的所有列\n",
    "#注意所有列用[:39]不用输入target列\n",
    "column = train_data.columns[:39]  # 列表头#这里加不加tolist都可以,tolist就是将其转化为列表。\n",
    "\n",
    "\n",
    "fig = plt.figure(figsize=(20, 40))  # 指定绘图对象宽度和高度\n",
    "for i in range(38):#这里是循环38次，所以说应该是range\n",
    "    plt.subplot(13, 3, i + 1)  # 13行3列子图#13行3列的第i+1个图，从左到右层序遍历\n",
    "    sns.boxplot(train_data[column[i]], orient=\"v\", width=0.5)  # 箱式图\n",
    "    plt.ylabel(column[i], fontsize=8)#注意这里的y_label也是（）,ylabel而非y_label，因为是调入模块，没有等号\n",
    "plt.show()"
   ]
  },
  {
   "cell_type": "code",
   "execution_count": 9,
   "metadata": {},
   "outputs": [
    {
     "ename": "NameError",
     "evalue": "name 'train_data' is not defined",
     "output_type": "error",
     "traceback": [
      "\u001b[1;31m---------------------------------------------------------------------------\u001b[0m",
      "\u001b[1;31mNameError\u001b[0m                                 Traceback (most recent call last)",
      "\u001b[1;32m<ipython-input-9-796e97805f88>\u001b[0m in \u001b[0;36m<module>\u001b[1;34m\u001b[0m\n\u001b[0;32m      9\u001b[0m \u001b[1;31m#如果没有了kde则没有了凸图线的拟合\u001b[0m\u001b[1;33m\u001b[0m\u001b[1;33m\u001b[0m\u001b[1;33m\u001b[0m\u001b[0m\n\u001b[0;32m     10\u001b[0m \u001b[1;31m#fit为拟合的参数,Scipy的stats模块包含了多种概率分布的随机变量，随机变量分为连续和离散两种\u001b[0m\u001b[1;33m\u001b[0m\u001b[1;33m\u001b[0m\u001b[1;33m\u001b[0m\u001b[0m\n\u001b[1;32m---> 11\u001b[1;33m \u001b[0msns\u001b[0m\u001b[1;33m.\u001b[0m\u001b[0mdistplot\u001b[0m\u001b[1;33m(\u001b[0m\u001b[0mtrain_data\u001b[0m\u001b[1;33m[\u001b[0m\u001b[1;34m'V0'\u001b[0m\u001b[1;33m]\u001b[0m\u001b[1;33m,\u001b[0m\u001b[0mfit\u001b[0m\u001b[1;33m=\u001b[0m\u001b[0mstats\u001b[0m\u001b[1;33m.\u001b[0m\u001b[0mgamma\u001b[0m\u001b[1;33m)\u001b[0m\u001b[1;31m#train_data['V0']选取了数据V0列\u001b[0m\u001b[1;33m\u001b[0m\u001b[1;33m\u001b[0m\u001b[0m\n\u001b[0m\u001b[0;32m     12\u001b[0m \u001b[0max\u001b[0m\u001b[1;33m=\u001b[0m\u001b[0mplt\u001b[0m\u001b[1;33m.\u001b[0m\u001b[0msubplot\u001b[0m\u001b[1;33m(\u001b[0m\u001b[1;36m1\u001b[0m\u001b[1;33m,\u001b[0m\u001b[1;36m2\u001b[0m\u001b[1;33m,\u001b[0m\u001b[1;36m2\u001b[0m\u001b[1;33m)\u001b[0m\u001b[1;33m\u001b[0m\u001b[1;33m\u001b[0m\u001b[0m\n\u001b[0;32m     13\u001b[0m \u001b[1;33m\u001b[0m\u001b[0m\n",
      "\u001b[1;31mNameError\u001b[0m: name 'train_data' is not defined"
     ]
    },
    {
     "data": {
      "image/png": "[encoded data removed]",
      "text/plain": [
       "<Figure size 720x360 with 1 Axes>"
      ]
     },
     "metadata": {
      "needs_background": "light"
     },
     "output_type": "display_data"
    }
   ],
   "source": [
    "plt.figure(figsize=(10,5))\n",
    "\n",
    "ax=plt.subplot(1,2,1)\n",
    "#sns.distplot()集合了matplotlib的hist()于sns.kdeplot()功能，\n",
    "#增了rugplot分布观测显示与理由scipy库fit拟合参数分布的新颖用途。\n",
    "\n",
    "#直方图一般用于数字特征（连续型）多用于y值和数字（连续型）特征的分布画图\n",
    "#seaborn集合了kdeplot的KDE核密度估计：在每一个观测点附近近似正态分布，再将所有的点的正态分布结合起来。\n",
    "#如果没有了kde则没有了凸图线的拟合\n",
    "#fit为拟合的参数,Scipy的stats模块包含了多种概率分布的随机变量，随机变量分为连续和离散两种\n",
    "#记忆其拟合的方式\n",
    "sns.distplot(train_data['V0'],fit=stats.gamma)#train_data['V0']选取了数据V0列\n",
    "ax=plt.subplot(1,2,2)\n",
    "\n",
    "#这是一种检验样本数据概率分布(例如正态分布)的方法。默认是正态分布，当然可以修改分布。\n",
    "#红色线为标准正态分布\n",
    "res = stats.probplot(train_data['V0'], plot=plt)#proplot又叫QQ图"
   ]
  },
  {
   "cell_type": "code",
   "execution_count": null,
   "metadata": {},
   "outputs": [],
   "source": [
    "train_cols = 6\n",
    "train_rows = len(train_data.columns)\n",
    "plt.figure(figsize=(4*train_cols,4*train_rows))#这里的图片构造也得学会，怎么才能不会让图片很挤\n",
    "\n",
    "i=0\n",
    "for col in train_data.columns:#这里的col是随机的吗？#这里必须使用col和i同时，不然会造成混乱\n",
    "    i+=1\n",
    "    ax=plt.subplot(train_rows,train_cols,i)\n",
    "    sns.distplot(train_data[col],fit=stats.norm)#因为这里是索引，所以必须使用[]\n",
    "    \n",
    "    i+=1\n",
    "    ax=plt.subplot(train_rows,train_cols,i)\n",
    "    res = stats.probplot(train_data[col], plot=plt)\n",
    "plt.show()"
   ]
  },
  {
   "cell_type": "code",
   "execution_count": null,
   "metadata": {},
   "outputs": [],
   "source": [
    "ax = sns.kdeplot(train_data['V0'], color=\"Red\", shade=True)\n",
    "#这里也可以画distplot，因为里面集成了KDE模块。也可以直接kdeplot\n",
    "#这里的shade参数是阴影填充。\n",
    "\n",
    "ax = sns.kdeplot(test_data['V0'], color=\"Blue\", shade=True)#学会如何设置颜色和阴影\n",
    "#注意这里true关键词，T一定要大写\n",
    "ax.set_xlabel('V0')\n",
    "ax.set_ylabel(\"Frequency\")\n",
    "ax = ax.legend([\"train\",\"test\"])\n",
    "#注意这里可以不用写ax=？，直接使用plt.legend更方便，并且这里的图里相当于索引一样在【】里面"
   ]
  },
  {
   "cell_type": "code",
   "execution_count": 10,
   "metadata": {},
   "outputs": [
    {
     "ename": "NameError",
     "evalue": "name 'test_data' is not defined",
     "output_type": "error",
     "traceback": [
      "\u001b[1;31m---------------------------------------------------------------------------\u001b[0m",
      "\u001b[1;31mNameError\u001b[0m                                 Traceback (most recent call last)",
      "\u001b[1;32m<ipython-input-10-cc8e9453cbf3>\u001b[0m in \u001b[0;36m<module>\u001b[1;34m\u001b[0m\n\u001b[0;32m      1\u001b[0m \u001b[0mdist_cols\u001b[0m \u001b[1;33m=\u001b[0m \u001b[1;36m6\u001b[0m\u001b[1;33m\u001b[0m\u001b[1;33m\u001b[0m\u001b[0m\n\u001b[1;32m----> 2\u001b[1;33m \u001b[0mdist_rows\u001b[0m \u001b[1;33m=\u001b[0m \u001b[0mlen\u001b[0m\u001b[1;33m(\u001b[0m\u001b[0mtest_data\u001b[0m\u001b[1;33m.\u001b[0m\u001b[0mcolumns\u001b[0m\u001b[1;33m)\u001b[0m\u001b[1;33m\u001b[0m\u001b[1;33m\u001b[0m\u001b[0m\n\u001b[0m\u001b[0;32m      3\u001b[0m \u001b[0mplt\u001b[0m\u001b[1;33m.\u001b[0m\u001b[0mfigure\u001b[0m\u001b[1;33m(\u001b[0m\u001b[0mfigsize\u001b[0m\u001b[1;33m=\u001b[0m\u001b[1;33m(\u001b[0m\u001b[1;36m4\u001b[0m\u001b[1;33m*\u001b[0m\u001b[0mdist_cols\u001b[0m\u001b[1;33m,\u001b[0m\u001b[1;36m4\u001b[0m\u001b[1;33m*\u001b[0m\u001b[0mdist_rows\u001b[0m\u001b[1;33m)\u001b[0m\u001b[1;33m)\u001b[0m\u001b[1;33m\u001b[0m\u001b[1;33m\u001b[0m\u001b[0m\n\u001b[0;32m      4\u001b[0m \u001b[1;31m#先设置画面以及subplot的大小，再进行循环\u001b[0m\u001b[1;33m\u001b[0m\u001b[1;33m\u001b[0m\u001b[1;33m\u001b[0m\u001b[0m\n\u001b[0;32m      5\u001b[0m \u001b[1;31m#\u001b[0m\u001b[1;33m\u001b[0m\u001b[1;33m\u001b[0m\u001b[1;33m\u001b[0m\u001b[0m\n",
      "\u001b[1;31mNameError\u001b[0m: name 'test_data' is not defined"
     ]
    }
   ],
   "source": [
    "dist_cols = 6\n",
    "dist_rows = len(test_data.columns)\n",
    "plt.figure(figsize=(4*dist_cols,4*dist_rows))\n",
    "#先设置画面以及subplot的大小，再进行循环\n",
    "#train_data.columns返回的是列标签的索引列表\n",
    "i=1\n",
    "for col in test_data.columns:\n",
    "    #因为训练数据比测试数据多了target标签，因此以test为标准，当然也可以使用drop删除一个标签\n",
    "    ax=plt.subplot(dist_rows,dist_cols,i)\n",
    "    #在实行具体的循环代码时应该指明其是在哪个plot里面画\n",
    "    ax = sns.kdeplot(train_data[col], color=\"Red\", shade=True)\n",
    "    #这里可以使用col作为索引原因是col本身具有了列的性质，不能用数字作为索引\n",
    "    ax = sns.kdeplot(test_data[col], color=\"Blue\", shade=True)\n",
    "    ax.set_xlabel(col)\n",
    "    ax.set_ylabel(\"Frequency\")\n",
    "    ax = ax.legend([\"train\",\"test\"])\n",
    "    \n",
    "    i+=1\n",
    "plt.show()"
   ]
  },
  {
   "cell_type": "code",
   "execution_count": 11,
   "metadata": {},
   "outputs": [
    {
     "ename": "NameError",
     "evalue": "name 'train_data' is not defined",
     "output_type": "error",
     "traceback": [
      "\u001b[1;31m---------------------------------------------------------------------------\u001b[0m",
      "\u001b[1;31mNameError\u001b[0m                                 Traceback (most recent call last)",
      "\u001b[1;32m<ipython-input-11-111c186f0215>\u001b[0m in \u001b[0;36m<module>\u001b[1;34m\u001b[0m\n\u001b[0;32m      7\u001b[0m \u001b[1;32mfor\u001b[0m \u001b[0mcol\u001b[0m \u001b[1;32min\u001b[0m \u001b[1;33m[\u001b[0m\u001b[1;34m\"V5\"\u001b[0m\u001b[1;33m,\u001b[0m\u001b[1;34m\"V9\"\u001b[0m\u001b[1;33m,\u001b[0m\u001b[1;34m\"V11\"\u001b[0m\u001b[1;33m,\u001b[0m\u001b[1;34m\"V17\"\u001b[0m\u001b[1;33m,\u001b[0m\u001b[1;34m\"V22\"\u001b[0m\u001b[1;33m,\u001b[0m\u001b[1;34m\"V28\"\u001b[0m\u001b[1;33m]\u001b[0m\u001b[1;33m:\u001b[0m\u001b[1;33m\u001b[0m\u001b[1;33m\u001b[0m\u001b[0m\n\u001b[0;32m      8\u001b[0m     \u001b[0max\u001b[0m \u001b[1;33m=\u001b[0m\u001b[0mplt\u001b[0m\u001b[1;33m.\u001b[0m\u001b[0msubplot\u001b[0m\u001b[1;33m(\u001b[0m\u001b[0mdrop_row\u001b[0m\u001b[1;33m,\u001b[0m\u001b[0mdrop_col\u001b[0m\u001b[1;33m,\u001b[0m\u001b[0mi\u001b[0m\u001b[1;33m)\u001b[0m\u001b[1;33m\u001b[0m\u001b[1;33m\u001b[0m\u001b[0m\n\u001b[1;32m----> 9\u001b[1;33m     \u001b[0max\u001b[0m \u001b[1;33m=\u001b[0m \u001b[0msns\u001b[0m\u001b[1;33m.\u001b[0m\u001b[0mkdeplot\u001b[0m\u001b[1;33m(\u001b[0m\u001b[0mtrain_data\u001b[0m\u001b[1;33m[\u001b[0m\u001b[0mcol\u001b[0m\u001b[1;33m]\u001b[0m\u001b[1;33m,\u001b[0m \u001b[0mcolor\u001b[0m\u001b[1;33m=\u001b[0m\u001b[1;34m\"Red\"\u001b[0m\u001b[1;33m,\u001b[0m \u001b[0mshade\u001b[0m\u001b[1;33m=\u001b[0m\u001b[1;32mTrue\u001b[0m\u001b[1;33m)\u001b[0m\u001b[1;33m\u001b[0m\u001b[1;33m\u001b[0m\u001b[0m\n\u001b[0m\u001b[0;32m     10\u001b[0m     \u001b[0max\u001b[0m \u001b[1;33m=\u001b[0m \u001b[0msns\u001b[0m\u001b[1;33m.\u001b[0m\u001b[0mkdeplot\u001b[0m\u001b[1;33m(\u001b[0m\u001b[0mtest_data\u001b[0m\u001b[1;33m[\u001b[0m\u001b[0mcol\u001b[0m\u001b[1;33m]\u001b[0m\u001b[1;33m,\u001b[0m \u001b[0mcolor\u001b[0m\u001b[1;33m=\u001b[0m\u001b[1;34m\"Blue\"\u001b[0m\u001b[1;33m,\u001b[0m \u001b[0mshade\u001b[0m\u001b[1;33m=\u001b[0m\u001b[1;32mTrue\u001b[0m\u001b[1;33m)\u001b[0m\u001b[1;33m\u001b[0m\u001b[1;33m\u001b[0m\u001b[0m\n\u001b[0;32m     11\u001b[0m     \u001b[0max\u001b[0m\u001b[1;33m.\u001b[0m\u001b[0mset_xlabel\u001b[0m\u001b[1;33m(\u001b[0m\u001b[0mcol\u001b[0m\u001b[1;33m)\u001b[0m\u001b[1;33m\u001b[0m\u001b[1;33m\u001b[0m\u001b[0m\n",
      "\u001b[1;31mNameError\u001b[0m: name 'train_data' is not defined"
     ]
    },
    {
     "data": {
      "image/png": "[encoded data removed]",
      "text/plain": [
       "<Figure size 2160x360 with 1 Axes>"
      ]
     },
     "metadata": {
      "needs_background": "light"
     },
     "output_type": "display_data"
    }
   ],
   "source": [
    "drop_col = 6\n",
    "drop_row = 1\n",
    "\n",
    "plt.figure(figsize=(5*drop_col,5*drop_row))###这个就是每个图分配5个单位大小，有drop_col行，drop_row列\n",
    "\n",
    "i=1\n",
    "for col in [\"V5\",\"V9\",\"V11\",\"V17\",\"V22\",\"V28\"]:\n",
    "    ax =plt.subplot(drop_row,drop_col,i)\n",
    "    ax = sns.kdeplot(train_data[col], color=\"Red\", shade=True)\n",
    "    ax = sns.kdeplot(test_data[col], color=\"Blue\", shade=True)\n",
    "    ax.set_xlabel(col)\n",
    "    ax.set_ylabel(\"Frequency\")\n",
    "    ax = ax.legend([\"train\",\"test\"])\n",
    "    \n",
    "    i+=1\n",
    "plt.show()"
   ]
  },
  {
   "cell_type": "code",
   "execution_count": null,
   "metadata": {},
   "outputs": [],
   "source": [
    "##泛化能力（generalization ability）是指机器学习算法对新鲜样本的适应能力。 \n",
    "#学习的目的是学到隐含在数据背后的规律，对具有同一规律的学习集以外的数据，\n",
    "#经过训练的网络也能给出合适的输出，该能力称为泛化能力。\n",
    "\n",
    "##以上的特征回导致模型的泛化能力减弱。因为测试集和训练集数据分布不一样。\n",
    "drop_columns = ['V5','V9','V11','V17','V22','V28']"
   ]
  },
  {
   "cell_type": "code",
   "execution_count": 12,
   "metadata": {},
   "outputs": [],
   "source": [
    "#合并训练集和测试集数据，并可视化训练集和测试集数据特征分布图"
   ]
  },
  {
   "cell_type": "code",
   "execution_count": 13,
   "metadata": {},
   "outputs": [
    {
     "ename": "NameError",
     "evalue": "name 'train_data' is not defined",
     "output_type": "error",
     "traceback": [
      "\u001b[1;31m---------------------------------------------------------------------------\u001b[0m",
      "\u001b[1;31mNameError\u001b[0m                                 Traceback (most recent call last)",
      "\u001b[1;32m<ipython-input-13-7187d5d1e6a4>\u001b[0m in \u001b[0;36m<module>\u001b[1;34m\u001b[0m\n\u001b[0;32m      5\u001b[0m \u001b[1;33m\u001b[0m\u001b[0m\n\u001b[0;32m      6\u001b[0m \u001b[0max\u001b[0m\u001b[1;33m=\u001b[0m\u001b[0mplt\u001b[0m\u001b[1;33m.\u001b[0m\u001b[0msubplot\u001b[0m\u001b[1;33m(\u001b[0m\u001b[1;36m1\u001b[0m\u001b[1;33m,\u001b[0m\u001b[1;36m2\u001b[0m\u001b[1;33m,\u001b[0m\u001b[1;36m1\u001b[0m\u001b[1;33m)\u001b[0m\u001b[1;33m\u001b[0m\u001b[1;33m\u001b[0m\u001b[0m\n\u001b[1;32m----> 7\u001b[1;33m sns.regplot(x='V0', y='target', data=train_data, ax=ax, \n\u001b[0m\u001b[0;32m      8\u001b[0m             \u001b[0mscatter_kws\u001b[0m\u001b[1;33m=\u001b[0m\u001b[1;33m{\u001b[0m\u001b[1;34m'marker'\u001b[0m\u001b[1;33m:\u001b[0m\u001b[1;34m'.'\u001b[0m\u001b[1;33m,\u001b[0m\u001b[1;34m's'\u001b[0m\u001b[1;33m:\u001b[0m\u001b[1;36m3\u001b[0m\u001b[1;33m,\u001b[0m\u001b[1;34m'alpha'\u001b[0m\u001b[1;33m:\u001b[0m\u001b[1;36m0.3\u001b[0m\u001b[1;33m}\u001b[0m\u001b[1;33m,\u001b[0m\u001b[1;33m\u001b[0m\u001b[1;33m\u001b[0m\u001b[0m\n\u001b[0;32m      9\u001b[0m             line_kws={'color':'k'});\n",
      "\u001b[1;31mNameError\u001b[0m: name 'train_data' is not defined"
     ]
    },
    {
     "data": {
      "image/png": "[encoded data removed]",
      "text/plain": [
       "<Figure size 576x288 with 1 Axes>"
      ]
     },
     "metadata": {
      "needs_background": "light"
     },
     "output_type": "display_data"
    }
   ],
   "source": [
    "fcols = 2\n",
    "frows = 1\n",
    "\n",
    "plt.figure(figsize=(8,4))\n",
    "\n",
    "ax=plt.subplot(1,2,1)\n",
    "sns.regplot(x='V0', y='target', data=train_data, ax=ax, \n",
    "            scatter_kws={'marker':'.','s':3,'alpha':0.3},#注意这里可以使用scatter_kws设置参数使用字典形式设置\n",
    "            line_kws={'color':'k'});\n",
    "plt.xlabel('V0')\n",
    "plt.ylabel('target')\n",
    "\n",
    "ax=plt.subplot(1,2,2)\n",
    "sns.distplot(train_data['V0'].dropna())\n",
    "plt.xlabel('V0')\n",
    "\n",
    "plt.show()"
   ]
  },
  {
   "cell_type": "code",
   "execution_count": null,
   "metadata": {},
   "outputs": [],
   "source": []
  },
  {
   "cell_type": "code",
   "execution_count": null,
   "metadata": {},
   "outputs": [],
   "source": [
    "fcols = 6\n",
    "frows = len(test_data.columns)\n",
    "plt.figure(figsize=(5*fcols,4*frows))\n",
    "\n",
    "i=0\n",
    "for col in test_data.columns:#注意这里是testdata的数据可以免除target数据的影响\n",
    "    i+=1\n",
    "    ax=plt.subplot(frows,fcols,i)\n",
    "    sns.regplot(x=col, y='target', data=train_data, ax=ax, \n",
    "                scatter_kws={'marker':'.','s':3,'alpha':0.3},\n",
    "                line_kws={'color':'k'});\n",
    "    plt.xlabel(col)\n",
    "    plt.ylabel('target')\n",
    "    \n",
    "    i+=1\n",
    "    ax=plt.subplot(frows,fcols,i)\n",
    "    sns.distplot(train_data[col].dropna())\n",
    "    plt.xlabel(col)"
   ]
  },
  {
   "cell_type": "code",
   "execution_count": null,
   "metadata": {},
   "outputs": [],
   "source": [
    "data_train1 = train_data.drop(['V5','V9','V11','V17','V22','V28'],axis=1)\n",
    "#这里最好加上axis为1\n",
    "#注意这里是直接train_data.drop，没有train_data.columns.drop\n",
    "train_corr = data_train1.corr()#这里出来的直接就是二维的矩阵形式\n",
    "train_corr"
   ]
  },
  {
   "cell_type": "code",
   "execution_count": null,
   "metadata": {},
   "outputs": [],
   "source": [
    "# 画出相关性热力图\n",
    "ax = plt.subplots(figsize=(20, 16))#调整画布大小\n",
    "\n",
    "ax = sns.heatmap(train_corr, vmax=.8, square=True, annot=True)#画热力图   annot=True 显示系数\n",
    "#这里的vmax主要作用是设置热力图数值上限"
   ]
  },
  {
   "cell_type": "code",
   "execution_count": null,
   "metadata": {},
   "outputs": [],
   "source": [
    "# 找出相关程度\n",
    "data_train1 = train_data.drop(['V5','V9','V11','V17','V22','V28'],axis=1)\n",
    "\n",
    "plt.figure(figsize=(20, 16))  # 指定绘图对象宽度和高度\n",
    "colnm = data_train1.columns.tolist()  # 列表头\n",
    "mcorr = data_train1[colnm].corr(method=\"spearman\")  # 相关系数矩阵，即给出了任意两个变量之间的相关系数\n",
    "mask = np.zeros_like(mcorr, dtype=np.bool)  # 构造与mcorr同维数矩阵 为bool型\n",
    "mask[np.triu_indices_from(mask)] = True  # 角分线右侧为True\n",
    "cmap = sns.diverging_palette(220, 10, as_cmap=True)  # 返回matplotlib colormap对象\n",
    "g = sns.heatmap(mcorr, mask=mask, cmap=cmap, square=True, annot=True, fmt='0.2f')  # 热力图（看两两相似度）\n",
    "plt.show()"
   ]
  },
  {
   "cell_type": "code",
   "execution_count": null,
   "metadata": {},
   "outputs": [],
   "source": [
    "#寻找K个最相关的特征信息\n",
    "k = 10 # number of variables for heatmap\n",
    "cols = train_corr.nlargest(k, 'target')['target'].index\n",
    "#这里就是找到k个与target相关性最大的特征变量并返回索引\n",
    "\n",
    "cm = np.corrcoef(train_data[cols].values.T)\n",
    "hm = plt.subplots(figsize=(10, 10))#调整画布大小\n",
    "#hm = sns.heatmap(cm, cbar=True, annot=True, square=True)\n",
    "#g = sns.heatmap(train_data[cols].corr(),annot=True,square=True,cmap=\"RdYlGn\")\n",
    "hm = sns.heatmap(train_data[cols].corr(),annot=True,square=True)\n",
    "#这里的cmap是他的一个配色方案，当然也可以用默认的\n",
    "\n",
    "plt.show()"
   ]
  },
  {
   "cell_type": "code",
   "execution_count": 14,
   "metadata": {},
   "outputs": [
    {
     "ename": "NameError",
     "evalue": "name 'train_data' is not defined",
     "output_type": "error",
     "traceback": [
      "\u001b[1;31m---------------------------------------------------------------------------\u001b[0m",
      "\u001b[1;31mNameError\u001b[0m                                 Traceback (most recent call last)",
      "\u001b[1;32m<ipython-input-14-e7eae20bcd75>\u001b[0m in \u001b[0;36m<module>\u001b[1;34m\u001b[0m\n\u001b[0;32m      1\u001b[0m \u001b[0mthreshold\u001b[0m \u001b[1;33m=\u001b[0m \u001b[1;36m0.5\u001b[0m\u001b[1;33m\u001b[0m\u001b[1;33m\u001b[0m\u001b[0m\n\u001b[0;32m      2\u001b[0m \u001b[1;33m\u001b[0m\u001b[0m\n\u001b[1;32m----> 3\u001b[1;33m \u001b[0mcorrmat\u001b[0m \u001b[1;33m=\u001b[0m \u001b[0mtrain_data\u001b[0m\u001b[1;33m.\u001b[0m\u001b[0mcorr\u001b[0m\u001b[1;33m(\u001b[0m\u001b[1;33m)\u001b[0m\u001b[1;33m\u001b[0m\u001b[1;33m\u001b[0m\u001b[0m\n\u001b[0m\u001b[0;32m      4\u001b[0m \u001b[0mtop_corr_features\u001b[0m \u001b[1;33m=\u001b[0m \u001b[0mcorrmat\u001b[0m\u001b[1;33m.\u001b[0m\u001b[0mindex\u001b[0m\u001b[1;33m[\u001b[0m\u001b[0mabs\u001b[0m\u001b[1;33m(\u001b[0m\u001b[0mcorrmat\u001b[0m\u001b[1;33m[\u001b[0m\u001b[1;34m\"target\"\u001b[0m\u001b[1;33m]\u001b[0m\u001b[1;33m)\u001b[0m\u001b[1;33m>\u001b[0m\u001b[0mthreshold\u001b[0m\u001b[1;33m]\u001b[0m\u001b[1;33m\u001b[0m\u001b[1;33m\u001b[0m\u001b[0m\n\u001b[0;32m      5\u001b[0m \u001b[0mplt\u001b[0m\u001b[1;33m.\u001b[0m\u001b[0mfigure\u001b[0m\u001b[1;33m(\u001b[0m\u001b[0mfigsize\u001b[0m\u001b[1;33m=\u001b[0m\u001b[1;33m(\u001b[0m\u001b[1;36m10\u001b[0m\u001b[1;33m,\u001b[0m\u001b[1;36m10\u001b[0m\u001b[1;33m)\u001b[0m\u001b[1;33m)\u001b[0m\u001b[1;33m\u001b[0m\u001b[1;33m\u001b[0m\u001b[0m\n",
      "\u001b[1;31mNameError\u001b[0m: name 'train_data' is not defined"
     ]
    }
   ],
   "source": [
    "threshold = 0.5\n",
    "\n",
    "corrmat = train_data.corr()\n",
    "top_corr_features = corrmat.index[abs(corrmat[\"target\"])>threshold]\n",
    "plt.figure(figsize=(10,10))\n",
    "g = sns.heatmap(train_data[top_corr_features].corr(),annot=True,cmap=\"RdYlGn\")\n"
   ]
  },
  {
   "cell_type": "code",
   "execution_count": null,
   "metadata": {},
   "outputs": [],
   "source": [
    "drop_columns.clear()\n",
    "drop_columns = ['V5','V9','V11','V17','V22','V28']"
   ]
  },
  {
   "cell_type": "code",
   "execution_count": null,
   "metadata": {},
   "outputs": [],
   "source": [
    "# Threshold for removing correlated variables\n",
    "threshold = 0.5\n",
    "\n",
    "# Absolute value correlation matrix\n",
    "corr_matrix = data_train1.corr().abs()\n",
    "drop_col=corr_matrix[corr_matrix[\"target\"]<threshold].index\n",
    "#data_all.drop(drop_col, axis=1, inplace=True)"
   ]
  },
  {
   "cell_type": "code",
   "execution_count": 15,
   "metadata": {},
   "outputs": [
    {
     "ename": "NameError",
     "evalue": "name 'train_data' is not defined",
     "output_type": "error",
     "traceback": [
      "\u001b[1;31m---------------------------------------------------------------------------\u001b[0m",
      "\u001b[1;31mNameError\u001b[0m                                 Traceback (most recent call last)",
      "\u001b[1;32m<ipython-input-15-0df3ab5701e5>\u001b[0m in \u001b[0;36m<module>\u001b[1;34m\u001b[0m\n\u001b[0;32m      1\u001b[0m \u001b[1;31m#merge train_set and test_set\u001b[0m\u001b[1;33m\u001b[0m\u001b[1;33m\u001b[0m\u001b[1;33m\u001b[0m\u001b[0m\n\u001b[1;32m----> 2\u001b[1;33m \u001b[0mtrain_x\u001b[0m \u001b[1;33m=\u001b[0m  \u001b[0mtrain_data\u001b[0m\u001b[1;33m.\u001b[0m\u001b[0mdrop\u001b[0m\u001b[1;33m(\u001b[0m\u001b[1;33m[\u001b[0m\u001b[1;34m'target'\u001b[0m\u001b[1;33m]\u001b[0m\u001b[1;33m,\u001b[0m \u001b[0maxis\u001b[0m\u001b[1;33m=\u001b[0m\u001b[1;36m1\u001b[0m\u001b[1;33m)\u001b[0m\u001b[1;33m\u001b[0m\u001b[1;33m\u001b[0m\u001b[0m\n\u001b[0m\u001b[0;32m      3\u001b[0m \u001b[1;33m\u001b[0m\u001b[0m\n\u001b[0;32m      4\u001b[0m \u001b[1;31m#data_all=pd.concat([train_data,test_data],axis=0,ignore_index=True)\u001b[0m\u001b[1;33m\u001b[0m\u001b[1;33m\u001b[0m\u001b[1;33m\u001b[0m\u001b[0m\n\u001b[0;32m      5\u001b[0m \u001b[0mdata_all\u001b[0m \u001b[1;33m=\u001b[0m \u001b[0mpd\u001b[0m\u001b[1;33m.\u001b[0m\u001b[0mconcat\u001b[0m\u001b[1;33m(\u001b[0m\u001b[1;33m[\u001b[0m\u001b[0mtrain_x\u001b[0m\u001b[1;33m,\u001b[0m\u001b[0mtest_data\u001b[0m\u001b[1;33m]\u001b[0m\u001b[1;33m)\u001b[0m\u001b[1;33m\u001b[0m\u001b[1;33m\u001b[0m\u001b[0m\n",
      "\u001b[1;31mNameError\u001b[0m: name 'train_data' is not defined"
     ]
    }
   ],
   "source": [
    "#merge train_set and test_set\n",
    "train_x =  train_data.drop(['target'], axis=1)\n",
    "\n",
    "#data_all=pd.concat([train_data,test_data],axis=0,ignore_index=True)\n",
    "data_all = pd.concat([train_x,test_data]) #注意这里结合是在一个方括号里面的\n",
    "\n",
    "\n",
    "data_all.drop(drop_columns,axis=1,inplace=True)\n",
    "#View data\n",
    "data_all.head()"
   ]
  },
  {
   "cell_type": "code",
   "execution_count": null,
   "metadata": {},
   "outputs": [],
   "source": [
    "# normalise numeric columns\n",
    "#进行普通化的时候应该将训练与测试数据一起捆绑再普通化\n",
    "cols_numeric=list(data_all.columns)\n",
    "\n",
    "def scale_minmax(col):\n",
    "    return (col-col.min())/(col.max()-col.min())\n",
    "#all_data里面的每一列都应用这种变换，目的是普通化\n",
    "data_all[cols_numeric] = data_all[cols_numeric].apply(scale_minmax,axis=0)\n",
    "#这里为什么应用到行？\n",
    "data_all[cols_numeric].describe()"
   ]
  },
  {
   "cell_type": "code",
   "execution_count": null,
   "metadata": {},
   "outputs": [],
   "source": [
    "#col_data_process = cols_numeric.append('target')\n",
    "train_data_process = train_data[cols_numeric]\n",
    "train_data_process = train_data_process[cols_numeric].apply(scale_minmax,axis=0)\n",
    "\n",
    "test_data_process = test_data[cols_numeric]#注意这里test_data是不含有target的特征变量的\n",
    "test_data_process = test_data_process[cols_numeric].apply(scale_minmax,axis=0)\n"
   ]
  },
  {
   "cell_type": "code",
   "execution_count": 16,
   "metadata": {},
   "outputs": [
    {
     "ename": "NameError",
     "evalue": "name 'cols_numeric' is not defined",
     "output_type": "error",
     "traceback": [
      "\u001b[1;31m---------------------------------------------------------------------------\u001b[0m",
      "\u001b[1;31mNameError\u001b[0m                                 Traceback (most recent call last)",
      "\u001b[1;32m<ipython-input-16-9f9bcbb9bae9>\u001b[0m in \u001b[0;36m<module>\u001b[1;34m\u001b[0m\n\u001b[1;32m----> 1\u001b[1;33m \u001b[0mcols_numeric_left\u001b[0m \u001b[1;33m=\u001b[0m \u001b[0mcols_numeric\u001b[0m\u001b[1;33m[\u001b[0m\u001b[1;36m0\u001b[0m\u001b[1;33m:\u001b[0m\u001b[1;36m13\u001b[0m\u001b[1;33m]\u001b[0m\u001b[1;33m\u001b[0m\u001b[1;33m\u001b[0m\u001b[0m\n\u001b[0m\u001b[0;32m      2\u001b[0m \u001b[0mcols_numeric_right\u001b[0m \u001b[1;33m=\u001b[0m \u001b[0mcols_numeric\u001b[0m\u001b[1;33m[\u001b[0m\u001b[1;36m13\u001b[0m\u001b[1;33m:\u001b[0m\u001b[1;33m]\u001b[0m\u001b[1;33m\u001b[0m\u001b[1;33m\u001b[0m\u001b[0m\n",
      "\u001b[1;31mNameError\u001b[0m: name 'cols_numeric' is not defined"
     ]
    }
   ],
   "source": [
    "cols_numeric_left = cols_numeric[0:13]\n",
    "cols_numeric_right = cols_numeric[13:]"
   ]
  },
  {
   "cell_type": "code",
   "execution_count": null,
   "metadata": {},
   "outputs": [],
   "source": [
    "## Check effect of Box-Cox transforms on distributions of continuous variables\n",
    "\n",
    "train_data_process = pd.concat([train_data_process, train_data['target']], axis=1)\n",
    "\n",
    "fcols = 6\n",
    "frows = len(cols_numeric_left)\n",
    "plt.figure(figsize=(4*fcols,4*frows))\n",
    "i=0\n",
    "\n",
    "for var in cols_numeric_left:\n",
    "    dat = train_data_process[[var, 'target']].dropna()\n",
    "        \n",
    "    i+=1\n",
    "    plt.subplot(frows,fcols,i)\n",
    "    sns.distplot(dat[var] , fit=stats.norm);\n",
    "    plt.title(var+' Original')\n",
    "    plt.xlabel('')\n",
    "        \n",
    "    i+=1\n",
    "    plt.subplot(frows,fcols,i)\n",
    "    _=stats.probplot(dat[var], plot=plt)\n",
    "    plt.title('skew='+'{:.4f}'.format(stats.skew(dat[var])))\n",
    "    plt.xlabel('')\n",
    "    plt.ylabel('')\n",
    "        \n",
    "    i+=1\n",
    "    plt.subplot(frows,fcols,i)\n",
    "    plt.plot(dat[var], dat['target'],'.',alpha=0.5)\n",
    "    plt.title('corr='+'{:.2f}'.format(np.corrcoef(dat[var], dat['target'])[0][1]))\n",
    " \n",
    "    i+=1\n",
    "    plt.subplot(frows,fcols,i)\n",
    "    trans_var, lambda_var = stats.boxcox(dat[var].dropna()+1)#这里使用boxcox进行变换，但是必须让值非负\n",
    "    trans_var = scale_minmax(trans_var)      \n",
    "    sns.distplot(trans_var , fit=stats.norm);#这里就是使用的trans_var，而非trans_var【】此时为元组\n",
    "    plt.title(var+' Tramsformed')\n",
    "    plt.xlabel('')\n",
    "        \n",
    "    i+=1\n",
    "    plt.subplot(frows,fcols,i)\n",
    "    _=stats.probplot(trans_var, plot=plt)\n",
    "    plt.title('skew='+'{:.4f}'.format(stats.skew(trans_var)))\n",
    "    plt.xlabel('')\n",
    "    plt.ylabel('')\n",
    "        \n",
    "    i+=1\n",
    "    plt.subplot(frows,fcols,i)\n",
    "    plt.plot(trans_var, dat['target'],'.',alpha=0.5)#注意这里直接使用的没有变换过的target\n",
    "    plt.title('corr='+'{:.2f}'.format(np.corrcoef(trans_var,dat['target'])[0][1]))"
   ]
  },
  {
   "cell_type": "code",
   "execution_count": 17,
   "metadata": {},
   "outputs": [
    {
     "ename": "NameError",
     "evalue": "name 'cols_numeric_right' is not defined",
     "output_type": "error",
     "traceback": [
      "\u001b[1;31m---------------------------------------------------------------------------\u001b[0m",
      "\u001b[1;31mNameError\u001b[0m                                 Traceback (most recent call last)",
      "\u001b[1;32m<ipython-input-17-9382a7e36686>\u001b[0m in \u001b[0;36m<module>\u001b[1;34m\u001b[0m\n\u001b[0;32m      3\u001b[0m \u001b[1;33m\u001b[0m\u001b[0m\n\u001b[0;32m      4\u001b[0m \u001b[0mfcols\u001b[0m \u001b[1;33m=\u001b[0m \u001b[1;36m6\u001b[0m\u001b[1;33m\u001b[0m\u001b[1;33m\u001b[0m\u001b[0m\n\u001b[1;32m----> 5\u001b[1;33m \u001b[0mfrows\u001b[0m \u001b[1;33m=\u001b[0m \u001b[0mlen\u001b[0m\u001b[1;33m(\u001b[0m\u001b[0mcols_numeric_right\u001b[0m\u001b[1;33m)\u001b[0m\u001b[1;33m\u001b[0m\u001b[1;33m\u001b[0m\u001b[0m\n\u001b[0m\u001b[0;32m      6\u001b[0m \u001b[0mplt\u001b[0m\u001b[1;33m.\u001b[0m\u001b[0mfigure\u001b[0m\u001b[1;33m(\u001b[0m\u001b[0mfigsize\u001b[0m\u001b[1;33m=\u001b[0m\u001b[1;33m(\u001b[0m\u001b[1;36m4\u001b[0m\u001b[1;33m*\u001b[0m\u001b[0mfcols\u001b[0m\u001b[1;33m,\u001b[0m\u001b[1;36m4\u001b[0m\u001b[1;33m*\u001b[0m\u001b[0mfrows\u001b[0m\u001b[1;33m)\u001b[0m\u001b[1;33m)\u001b[0m\u001b[1;33m\u001b[0m\u001b[1;33m\u001b[0m\u001b[0m\n\u001b[0;32m      7\u001b[0m \u001b[0mi\u001b[0m\u001b[1;33m=\u001b[0m\u001b[1;36m0\u001b[0m\u001b[1;33m\u001b[0m\u001b[1;33m\u001b[0m\u001b[0m\n",
      "\u001b[1;31mNameError\u001b[0m: name 'cols_numeric_right' is not defined"
     ]
    }
   ],
   "source": [
    "## Check effect of Box-Cox transforms on distributions of continuous variables\n",
    "\n",
    "\n",
    "fcols = 6\n",
    "frows = len(cols_numeric_right)\n",
    "plt.figure(figsize=(4*fcols,4*frows))\n",
    "i=0\n",
    "\n",
    "for var in cols_numeric_right:\n",
    "    dat = train_data_process[[var, 'target']].dropna()\n",
    "        \n",
    "    i+=1\n",
    "    plt.subplot(frows,fcols,i)\n",
    "    sns.distplot(dat[var] , fit=stats.norm);\n",
    "    plt.title(var+' Original')\n",
    "    plt.xlabel('')\n",
    "        \n",
    "    i+=1\n",
    "    plt.subplot(frows,fcols,i)\n",
    "    _=stats.probplot(dat[var], plot=plt)\n",
    "    plt.title('skew='+'{:.4f}'.format(stats.skew(dat[var])))\n",
    "    plt.xlabel('')\n",
    "    plt.ylabel('')\n",
    "        \n",
    "    i+=1\n",
    "    plt.subplot(frows,fcols,i)\n",
    "    plt.plot(dat[var], dat['target'],'.',alpha=0.5)\n",
    "    plt.title('corr='+'{:.2f}'.format(np.corrcoef(dat[var], dat['target'])[0][1]))\n",
    " \n",
    "    i+=1\n",
    "    plt.subplot(frows,fcols,i)\n",
    "    trans_var, lambda_var = stats.boxcox(dat[var].dropna()+1)\n",
    "    trans_var = scale_minmax(trans_var)      \n",
    "    sns.distplot(trans_var , fit=stats.norm);\n",
    "    plt.title(var+' Tramsformed')\n",
    "    plt.xlabel('')\n",
    "        \n",
    "    i+=1\n",
    "    plt.subplot(frows,fcols,i)\n",
    "    _=stats.probplot(trans_var, plot=plt)\n",
    "    plt.title('skew='+'{:.4f}'.format(stats.skew(trans_var)))\n",
    "    plt.xlabel('')\n",
    "    plt.ylabel('')\n",
    "        \n",
    "    i+=1\n",
    "    plt.subplot(frows,fcols,i)\n",
    "    plt.plot(trans_var, dat['target'],'.',alpha=0.5)\n",
    "    plt.title('corr='+'{:.2f}'.format(np.corrcoef(trans_var,dat['target'])[0][1]))"
   ]
  },
  {
   "cell_type": "code",
   "execution_count": null,
   "metadata": {},
   "outputs": [],
   "source": []
  },
  {
   "cell_type": "code",
   "execution_count": null,
   "metadata": {},
   "outputs": [],
   "source": []
  },
  {
   "cell_type": "code",
   "execution_count": null,
   "metadata": {},
   "outputs": [],
   "source": []
  },
  {
   "cell_type": "code",
   "execution_count": null,
   "metadata": {},
   "outputs": [],
   "source": []
  },
  {
   "cell_type": "code",
   "execution_count": null,
   "metadata": {},
   "outputs": [],
   "source": []
  },
  {
   "cell_type": "code",
   "execution_count": null,
   "metadata": {},
   "outputs": [],
   "source": []
  },
  {
   "cell_type": "code",
   "execution_count": null,
   "metadata": {},
   "outputs": [],
   "source": []
  },
  {
   "cell_type": "code",
   "execution_count": null,
   "metadata": {},
   "outputs": [],
   "source": []
  },
  {
   "cell_type": "code",
   "execution_count": null,
   "metadata": {},
   "outputs": [],
   "source": []
  },
  {
   "cell_type": "code",
   "execution_count": null,
   "metadata": {},
   "outputs": [],
   "source": []
  },
  {
   "cell_type": "code",
   "execution_count": null,
   "metadata": {},
   "outputs": [],
   "source": []
  },
  {
   "cell_type": "code",
   "execution_count": null,
   "metadata": {},
   "outputs": [],
   "source": []
  },
  {
   "cell_type": "code",
   "execution_count": null,
   "metadata": {},
   "outputs": [],
   "source": []
  },
  {
   "cell_type": "code",
   "execution_count": null,
   "metadata": {},
   "outputs": [],
   "source": []
  },
  {
   "cell_type": "code",
   "execution_count": null,
   "metadata": {},
   "outputs": [],
   "source": []
  },
  {
   "cell_type": "code",
   "execution_count": null,
   "metadata": {},
   "outputs": [],
   "source": []
  },
  {
   "cell_type": "code",
   "execution_count": null,
   "metadata": {},
   "outputs": [],
   "source": []
  }
 ],
 "metadata": {
  "kernelspec": {
   "display_name": "Python 3",
   "language": "python",
   "name": "python3"
  },
  "language_info": {
   "codemirror_mode": {
    "name": "ipython",
    "version": 3
   },
   "file_extension": ".py",
   "mimetype": "text/x-python",
   "name": "python",
   "nbconvert_exporter": "python",
   "pygments_lexer": "ipython3",
   "version": "3.8.5"
  }
 },
 "nbformat": 4,
 "nbformat_minor": 4
}
