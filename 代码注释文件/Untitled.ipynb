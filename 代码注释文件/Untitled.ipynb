{
 "cells": [
  {
   "cell_type": "code",
   "execution_count": 18,
   "metadata": {},
   "outputs": [],
   "source": [
    "import numpy as np\n",
    "import pandas as pd\n",
    "import matplotlib.pyplot as plt#注意这里必须是pyplot模块\n",
    "import seaborn as sns\n",
    "from numpy import *\n",
    "import math"
   ]
  },
  {
   "cell_type": "code",
   "execution_count": 7,
   "metadata": {},
   "outputs": [],
   "source": [
    "x=range(0,1,)"
   ]
  },
  {
   "cell_type": "code",
   "execution_count": 8,
   "metadata": {},
   "outputs": [
    {
     "data": {
      "text/plain": [
       "range(0, 1)"
      ]
     },
     "execution_count": 8,
     "metadata": {},
     "output_type": "execute_result"
    }
   ],
   "source": [
    "x"
   ]
  },
  {
   "cell_type": "code",
   "execution_count": 13,
   "metadata": {},
   "outputs": [],
   "source": [
    "x=linspace(0,1,100)"
   ]
  },
  {
   "cell_type": "code",
   "execution_count": 25,
   "metadata": {},
   "outputs": [],
   "source": [
    "y=4*(x-x**2)"
   ]
  },
  {
   "cell_type": "code",
   "execution_count": 26,
   "metadata": {},
   "outputs": [
    {
     "data": {
      "text/plain": [
       "array([0.        , 0.03999592, 0.07917559, 0.11753903, 0.15508622,\n",
       "       0.19181716, 0.22773186, 0.26283032, 0.29711254, 0.33057851,\n",
       "       0.36322824, 0.39506173, 0.42607897, 0.45627997, 0.48566473,\n",
       "       0.51423324, 0.54198551, 0.56892154, 0.59504132, 0.62034486,\n",
       "       0.64483216, 0.66850321, 0.69135802, 0.71339659, 0.73461892,\n",
       "       0.755025  , 0.77461484, 0.79338843, 0.81134578, 0.82848689,\n",
       "       0.84481175, 0.86032038, 0.87501275, 0.88888889, 0.90194878,\n",
       "       0.91419243, 0.92561983, 0.936231  , 0.94602592, 0.95500459,\n",
       "       0.96316702, 0.97051321, 0.97704316, 0.98275686, 0.98765432,\n",
       "       0.99173554, 0.99500051, 0.99744924, 0.99908173, 0.99989797,\n",
       "       0.99989797, 0.99908173, 0.99744924, 0.99500051, 0.99173554,\n",
       "       0.98765432, 0.98275686, 0.97704316, 0.97051321, 0.96316702,\n",
       "       0.95500459, 0.94602592, 0.936231  , 0.92561983, 0.91419243,\n",
       "       0.90194878, 0.88888889, 0.87501275, 0.86032038, 0.84481175,\n",
       "       0.82848689, 0.81134578, 0.79338843, 0.77461484, 0.755025  ,\n",
       "       0.73461892, 0.71339659, 0.69135802, 0.66850321, 0.64483216,\n",
       "       0.62034486, 0.59504132, 0.56892154, 0.54198551, 0.51423324,\n",
       "       0.48566473, 0.45627997, 0.42607897, 0.39506173, 0.36322824,\n",
       "       0.33057851, 0.29711254, 0.26283032, 0.22773186, 0.19181716,\n",
       "       0.15508622, 0.11753903, 0.07917559, 0.03999592, 0.        ])"
      ]
     },
     "execution_count": 26,
     "metadata": {},
     "output_type": "execute_result"
    }
   ],
   "source": [
    "y"
   ]
  },
  {
   "cell_type": "code",
   "execution_count": 27,
   "metadata": {},
   "outputs": [
    {
     "data": {
      "image/png": "[encoded data removed]",
      "text/plain": [
       "<Figure size 288x288 with 1 Axes>"
      ]
     },
     "metadata": {
      "needs_background": "light"
     },
     "output_type": "display_data"
    }
   ],
   "source": [
    "plt.figure(figsize=(4,4))\n",
    "\n",
    "plt.plot(x,y)\n",
    "plt.show()"
   ]
  },
  {
   "cell_type": "code",
   "execution_count": null,
   "metadata": {},
   "outputs": [],
   "source": []
  }
 ],
 "metadata": {
  "kernelspec": {
   "display_name": "Python 3",
   "language": "python",
   "name": "python3"
  },
  "language_info": {
   "codemirror_mode": {
    "name": "ipython",
    "version": 3
   },
   "file_extension": ".py",
   "mimetype": "text/x-python",
   "name": "python",
   "nbconvert_exporter": "python",
   "pygments_lexer": "ipython3",
   "version": "3.8.5"
  }
 },
 "nbformat": 4,
 "nbformat_minor": 4
}
